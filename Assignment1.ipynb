{
 "cells": [
  {
   "cell_type": "markdown",
   "id": "cb80fa0e",
   "metadata": {},
   "source": [
    "# Assignment 1\n",
    "\n",
    "**Authors:**\n",
    "- Krish Devendra Waghresha (s252788)\n",
    "- Javier Yanes Pulido (s243345)\n",
    "- Jone Egon Steinhoff (s243867)"
   ]
  },
  {
   "cell_type": "markdown",
   "id": "d949ee35",
   "metadata": {},
   "source": [
    "## 1.1: Exploring WS and BA models"
   ]
  },
  {
   "cell_type": "markdown",
   "id": "e0c6ac3d",
   "metadata": {},
   "source": [
    "### 1.1.1: Did you really read the text?"
   ]
  },
  {
   "cell_type": "markdown",
   "id": "2146b4a4",
   "metadata": {},
   "source": [
    "### 1.1.2: WS edition"
   ]
  },
  {
   "cell_type": "markdown",
   "id": "6fdbfb68",
   "metadata": {},
   "source": [
    "### 1.1.3: BA Edition"
   ]
  },
  {
   "cell_type": "markdown",
   "id": "0e0581f4",
   "metadata": {},
   "source": [
    "## 1.2: Stats and visualization of the Rock Music Network"
   ]
  },
  {
   "cell_type": "markdown",
   "id": "d9e6c271",
   "metadata": {},
   "source": [
    "### 1.2.1: Explain your process in words"
   ]
  },
  {
   "cell_type": "markdown",
   "id": "a3e3bb1e",
   "metadata": {},
   "source": [
    "### 1.2.2: Simple network statistics and analysis"
   ]
  },
  {
   "cell_type": "markdown",
   "id": "1bf40b09",
   "metadata": {},
   "source": [
    "### 1.2.3: Let's build a simple visualization of the network"
   ]
  }
 ],
 "metadata": {
  "language_info": {
   "name": "python"
  }
 },
 "nbformat": 4,
 "nbformat_minor": 5
}
